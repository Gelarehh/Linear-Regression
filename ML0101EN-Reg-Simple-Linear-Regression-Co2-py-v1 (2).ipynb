
    "# Simple Linear Regression\n",
    "\n",
    "Estimated time needed: **15** minutes\n",
    "\n",
    "## Objectives\n",
    "\n",
    "After completing this lab you will be able to:\n",
    "\n",
    "-   Use scikit-learn to implement simple Linear Regression\n",
    "-   Create a model, train,test and use the model\n"
   ]
  },
  {
   "cell_type": "markdown",
   "metadata": {
    "button": false,
    "new_sheet": false,
    "run_control": {
     "read_only": false
    }
   },
   "source": [
    "### Importing Needed packages\n"
   ]
  },
  {
   "cell_type": "code",
   "execution_count": 2,
   "metadata": {
    "button": false,
    "new_sheet": false,
    "run_control": {
     "read_only": false
    }
   },
   "outputs": [],
   "source": [
    "import matplotlib.pyplot as plt\n",
    "import pandas as pd\n",
    "import pylab as pl\n",
    "import numpy as np\n",
    "%matplotlib inline"
   ]
  },
  {
   "cell_type": "markdown",
   "metadata": {
    "button": false,
    "new_sheet": false,
    "run_control": {
     "read_only": false
    }
   },
   "source": [
    "### Downloading Data\n",
    "\n",
    "To download the data, we will use !wget to download it from IBM Object Storage.\n"
   ]
  },
  {
   "cell_type": "code",
   "execution_count": 5,
   "metadata": {
    "button": false,
    "new_sheet": false,
    "run_control": {
     "read_only": false
    }
   },
   "outputs": [
    {
     "name": "stdout",
     "output_type": "stream",
     "text": [
      "--2021-05-16 17:46:29--  https://cf-courses-data.s3.us.cloud-object-storage.appdomain.cloud/IBMDeveloperSkillsNetwork-ML0101EN-SkillsNetwork/labs/Module%202/data/FuelConsumptionCo2.csv\n",
      "Resolving cf-courses-data.s3.us.cloud-object-storage.appdomain.cloud (cf-courses-data.s3.us.cloud-object-storage.appdomain.cloud)... 169.63.118.104\n",
      "Connecting to cf-courses-data.s3.us.cloud-object-storage.appdomain.cloud (cf-courses-data.s3.us.cloud-object-storage.appdomain.cloud)|169.63.118.104|:443... connected.\n",
      "HTTP request sent, awaiting response... 200 OK\n",
      "Length: 72629 (71K) [text/csv]\n",
      "Saving to: ‘FuelConsumption.csv’\n",
      "\n",
      "FuelConsumption.csv 100%[===================>]  70.93K  --.-KB/s    in 0.001s  \n",
      "\n",
      "2021-05-16 17:46:29 (58.9 MB/s) - ‘FuelConsumption.csv’ saved [72629/72629]\n",
      "\n"
     ]
    }
   ],
   "source": [
    "!wget -O FuelConsumption.csv https://cf-courses-data.s3.us.cloud-object-storage.appdomain.cloud/IBMDeveloperSkillsNetwork-ML0101EN-SkillsNetwork/labs/Module%202/data/FuelConsumptionCo2.csv"
   ]
  },
  {
   "cell_type": "markdown",
   "metadata": {},
   "source": [
    "**Did you know?** When it comes to Machine Learning, you will likely be working with large datasets. As a business, where can you host your data? IBM is offering a unique opportunity for businesses, with 10 Tb of IBM Cloud Object Storage: [Sign up now for free](http://cocl.us/ML0101EN-IBM-Offer-CC)\n"
   ]
  },
  {
   "cell_type": "markdown",
   "metadata": {
    "button": false,
    "new_sheet": false,
    "run_control": {
     "read_only": false
    }
   },
   "source": [
    "## Understanding the Data\n",
    "\n",
    "### `FuelConsumption.csv`:\n",
    "\n",
    "We have downloaded a fuel consumption dataset, **`FuelConsumption.csv`**, which contains model-specific fuel consumption ratings and estimated carbon dioxide emissions for new light-duty vehicles for retail sale in Canada. [Dataset source](http://open.canada.ca/data/en/dataset/98f1a129-f628-4ce4-b24d-6f16bf24dd64?cm_mmc=Email_Newsletter-_-Developer_Ed%2BTech-_-WW_WW-_-SkillsNetwork-Courses-IBMDeveloperSkillsNetwork-ML0101EN-SkillsNetwork-20718538&cm_mmca1=000026UJ&cm_mmca2=10006555&cm_mmca3=M12345678&cvosrc=email.Newsletter.M12345678&cvo_campaign=000026UJ&cm_mmc=Email_Newsletter-_-Developer_Ed%2BTech-_-WW_WW-_-SkillsNetwork-Courses-IBMDeveloperSkillsNetwork-ML0101EN-SkillsNetwork-20718538&cm_mmca1=000026UJ&cm_mmca2=10006555&cm_mmca3=M12345678&cvosrc=email.Newsletter.M12345678&cvo_campaign=000026UJ&cm_mmc=Email_Newsletter-_-Developer_Ed%2BTech-_-WW_WW-_-SkillsNetwork-Courses-IBMDeveloperSkillsNetwork-ML0101EN-SkillsNetwork-20718538&cm_mmca1=000026UJ&cm_mmca2=10006555&cm_mmca3=M12345678&cvosrc=email.Newsletter.M12345678&cvo_campaign=000026UJ&cm_mmc=Email_Newsletter-_-Developer_Ed%2BTech-_-WW_WW-_-SkillsNetwork-Courses-IBMDeveloperSkillsNetwork-ML0101EN-SkillsNetwork-20718538&cm_mmca1=000026UJ&cm_mmca2=10006555&cm_mmca3=M12345678&cvosrc=email.Newsletter.M12345678&cvo_campaign=000026UJ)\n",
    "\n",
    "-   **MODELYEAR** e.g. 2014\n",
    "-   **MAKE** e.g. Acura\n",
    "-   **MODEL** e.g. ILX\n",
    "-   **VEHICLE CLASS** e.g. SUV\n",
    "-   **ENGINE SIZE** e.g. 4.7\n",
    "-   **CYLINDERS** e.g 6\n",
    "-   **TRANSMISSION** e.g. A6\n",
    "-   **FUEL CONSUMPTION in CITY(L/100 km)** e.g. 9.9\n",
    "-   **FUEL CONSUMPTION in HWY (L/100 km)** e.g. 8.9\n",
    "-   **FUEL CONSUMPTION COMB (L/100 km)** e.g. 9.2\n",
    "-   **CO2 EMISSIONS (g/km)** e.g. 182   --> low --> 0\n"
   ]
  },
  {
   "cell_type": "markdown",
   "metadata": {
    "button": false,
    "new_sheet": false,
    "run_control": {
     "read_only": false
    }
   },
   "source": [
    "## Reading the data in\n"
   ]
  },
  {
   "cell_type": "code",
   "execution_count": 6,
   "metadata": {
    "button": false,
    "new_sheet": false,
    "run_control": {
     "read_only": false
    }
   },
   "outputs": [
    {
     "data": {
      "text/html": [
       "<div>\n",
       "<style scoped>\n",
       "    .dataframe tbody tr th:only-of-type {\n",
       "        vertical-align: middle;\n",
       "    }\n",
       "\n",
       "    .dataframe tbody tr th {\n",
       "        vertical-align: top;\n",
       "    }\n",
       "\n",
       "    .dataframe thead th {\n",
       "        text-align: right;\n",
       "    }\n",
       "</style>\n",
       "<table border=\"1\" class=\"dataframe\">\n",
       "  <thead>\n",
       "    <tr style=\"text-align: right;\">\n",
       "      <th></th>\n",
       "      <th>MODELYEAR</th>\n",
       "      <th>MAKE</th>\n",
       "      <th>MODEL</th>\n",
       "      <th>VEHICLECLASS</th>\n",
       "      <th>ENGINESIZE</th>\n",
       "      <th>CYLINDERS</th>\n",
       "      <th>TRANSMISSION</th>\n",
       "      <th>FUELTYPE</th>\n",
       "      <th>FUELCONSUMPTION_CITY</th>\n",
       "      <th>FUELCONSUMPTION_HWY</th>\n",
       "      <th>FUELCONSUMPTION_COMB</th>\n",
       "      <th>FUELCONSUMPTION_COMB_MPG</th>\n",
       "      <th>CO2EMISSIONS</th>\n",
       "    </tr>\n",
       "  </thead>\n",
       "  <tbody>\n",
       "    <tr>\n",
       "      <th>0</th>\n",
       "      <td>2014</td>\n",
       "      <td>ACURA</td>\n",
       "      <td>ILX</td>\n",
       "      <td>COMPACT</td>\n",
       "      <td>2.0</td>\n",
       "      <td>4</td>\n",
       "      <td>AS5</td>\n",
       "      <td>Z</td>\n",
       "      <td>9.9</td>\n",
       "      <td>6.7</td>\n",
       "      <td>8.5</td>\n",
       "      <td>33</td>\n",
       "      <td>196</td>\n",
       "    </tr>\n",
       "    <tr>\n",
       "      <th>1</th>\n",
       "      <td>2014</td>\n",
       "      <td>ACURA</td>\n",
       "      <td>ILX</td>\n",
       "      <td>COMPACT</td>\n",
       "      <td>2.4</td>\n",
       "      <td>4</td>\n",
       "      <td>M6</td>\n",
       "      <td>Z</td>\n",
       "      <td>11.2</td>\n",
       "      <td>7.7</td>\n",
       "      <td>9.6</td>\n",
       "      <td>29</td>\n",
       "      <td>221</td>\n",
       "    </tr>\n",
       "    <tr>\n",
       "      <th>2</th>\n",
       "      <td>2014</td>\n",
       "      <td>ACURA</td>\n",
       "      <td>ILX HYBRID</td>\n",
       "      <td>COMPACT</td>\n",
       "      <td>1.5</td>\n",
       "      <td>4</td>\n",
       "      <td>AV7</td>\n",
       "      <td>Z</td>\n",
       "      <td>6.0</td>\n",
       "      <td>5.8</td>\n",
       "      <td>5.9</td>\n",
       "      <td>48</td>\n",
       "      <td>136</td>\n",
       "    </tr>\n",
       "    <tr>\n",
       "      <th>3</th>\n",
       "      <td>2014</td>\n",
       "      <td>ACURA</td>\n",
       "      <td>MDX 4WD</td>\n",
       "      <td>SUV - SMALL</td>\n",
       "      <td>3.5</td>\n",
       "      <td>6</td>\n",
       "      <td>AS6</td>\n",
       "      <td>Z</td>\n",
       "      <td>12.7</td>\n",
       "      <td>9.1</td>\n",
       "      <td>11.1</td>\n",
       "      <td>25</td>\n",
       "      <td>255</td>\n",
       "    </tr>\n",
       "    <tr>\n",
       "      <th>4</th>\n",
       "      <td>2014</td>\n",
       "      <td>ACURA</td>\n",
       "      <td>RDX AWD</td>\n",
       "      <td>SUV - SMALL</td>\n",
       "      <td>3.5</td>\n",
       "      <td>6</td>\n",
       "      <td>AS6</td>\n",
       "      <td>Z</td>\n",
       "      <td>12.1</td>\n",
       "      <td>8.7</td>\n",
       "      <td>10.6</td>\n",
       "      <td>27</td>\n",
       "      <td>244</td>\n",
       "    </tr>\n",
       "  </tbody>\n",
       "</table>\n",
       "</div>"
      ],
      "text/plain": [
       "   MODELYEAR   MAKE       MODEL VEHICLECLASS  ENGINESIZE  CYLINDERS  \\\n",
       "0       2014  ACURA         ILX      COMPACT         2.0          4   \n",
       "1       2014  ACURA         ILX      COMPACT         2.4          4   \n",
       "2       2014  ACURA  ILX HYBRID      COMPACT         1.5          4   \n",
       "3       2014  ACURA     MDX 4WD  SUV - SMALL         3.5          6   \n",
       "4       2014  ACURA     RDX AWD  SUV - SMALL         3.5          6   \n",
       "\n",
       "  TRANSMISSION FUELTYPE  FUELCONSUMPTION_CITY  FUELCONSUMPTION_HWY  \\\n",
       "0          AS5        Z                   9.9                  6.7   \n",
       "1           M6        Z                  11.2                  7.7   \n",
       "2          AV7        Z                   6.0                  5.8   \n",
       "3          AS6        Z                  12.7                  9.1   \n",
       "4          AS6        Z                  12.1                  8.7   \n",
       "\n",
       "   FUELCONSUMPTION_COMB  FUELCONSUMPTION_COMB_MPG  CO2EMISSIONS  \n",
       "0                   8.5                        33           196  \n",
       "1                   9.6                        29           221  \n",
       "2                   5.9                        48           136  \n",
       "3                  11.1                        25           255  \n",
       "4                  10.6                        27           244  "
      ]
     },
     "execution_count": 6,
     "metadata": {},
     "output_type": "execute_result"
    }
   ],
   "source": [
    "df = pd.read_csv(\"FuelConsumption.csv\")\n",
    "\n",
    "# take a look at the dataset\n",
    "df.head()"
   ]
  },
  {
   "cell_type": "markdown",
   "metadata": {
    "button": false,
    "new_sheet": false,
    "run_control": {
     "read_only": false
    }
   },
   "source": [
    "### Data Exploration\n",
    "\n",
    "Lets first have a descriptive exploration on our data.\n"
   ]
  },
  {
   "cell_type": "code",
   "execution_count": 7,
   "metadata": {
    "button": false,
    "new_sheet": false,
    "run_control": {
     "read_only": false
    }
   },
   "outputs": [
    {
     "data": {
      "text/html": [
       "<div>\n",
       "<style scoped>\n",
       "    .dataframe tbody tr th:only-of-type {\n",
       "        vertical-align: middle;\n",
       "    }\n",
       "\n",
       "    .dataframe tbody tr th {\n",
       "        vertical-align: top;\n",
       "    }\n",
       "\n",
       "    .dataframe thead th {\n",
       "        text-align: right;\n",
       "    }\n",
       "</style>\n",
       "<table border=\"1\" class=\"dataframe\">\n",
       "  <thead>\n",
       "    <tr style=\"text-align: right;\">\n",
       "      <th></th>\n",
       "      <th>MODELYEAR</th>\n",
       "      <th>ENGINESIZE</th>\n",
       "      <th>CYLINDERS</th>\n",
       "      <th>FUELCONSUMPTION_CITY</th>\n",
       "      <th>FUELCONSUMPTION_HWY</th>\n",
       "      <th>FUELCONSUMPTION_COMB</th>\n",
       "      <th>FUELCONSUMPTION_COMB_MPG</th>\n",
       "      <th>CO2EMISSIONS</th>\n",
       "    </tr>\n",
       "  </thead>\n",
       "  <tbody>\n",
       "    <tr>\n",
       "      <th>count</th>\n",
       "      <td>1067.0</td>\n",
       "      <td>1067.000000</td>\n",
       "      <td>1067.000000</td>\n",
       "      <td>1067.000000</td>\n",
       "      <td>1067.000000</td>\n",
       "      <td>1067.000000</td>\n",
       "      <td>1067.000000</td>\n",
       "      <td>1067.000000</td>\n",
       "    </tr>\n",
       "    <tr>\n",
       "      <th>mean</th>\n",
       "      <td>2014.0</td>\n",
       "      <td>3.346298</td>\n",
       "      <td>5.794752</td>\n",
       "      <td>13.296532</td>\n",
       "      <td>9.474602</td>\n",
       "      <td>11.580881</td>\n",
       "      <td>26.441425</td>\n",
       "      <td>256.228679</td>\n",
       "    </tr>\n",
       "    <tr>\n",
       "      <th>std</th>\n",
       "      <td>0.0</td>\n",
       "      <td>1.415895</td>\n",
       "      <td>1.797447</td>\n",
       "      <td>4.101253</td>\n",
       "      <td>2.794510</td>\n",
       "      <td>3.485595</td>\n",
       "      <td>7.468702</td>\n",
       "      <td>63.372304</td>\n",
       "    </tr>\n",
       "    <tr>\n",
       "      <th>min</th>\n",
       "      <td>2014.0</td>\n",
       "      <td>1.000000</td>\n",
       "      <td>3.000000</td>\n",
       "      <td>4.600000</td>\n",
       "      <td>4.900000</td>\n",
       "      <td>4.700000</td>\n",
       "      <td>11.000000</td>\n",
       "      <td>108.000000</td>\n",
       "    </tr>\n",
       "    <tr>\n",
       "      <th>25%</th>\n",
       "      <td>2014.0</td>\n",
       "      <td>2.000000</td>\n",
       "      <td>4.000000</td>\n",
       "      <td>10.250000</td>\n",
       "      <td>7.500000</td>\n",
       "      <td>9.000000</td>\n",
       "      <td>21.000000</td>\n",
       "      <td>207.000000</td>\n",
       "    </tr>\n",
       "    <tr>\n",
       "      <th>50%</th>\n",
       "      <td>2014.0</td>\n",
       "      <td>3.400000</td>\n",
       "      <td>6.000000</td>\n",
       "      <td>12.600000</td>\n",
       "      <td>8.800000</td>\n",
       "      <td>10.900000</td>\n",
       "      <td>26.000000</td>\n",
       "      <td>251.000000</td>\n",
       "    </tr>\n",
       "    <tr>\n",
       "      <th>75%</th>\n",
       "      <td>2014.0</td>\n",
       "      <td>4.300000</td>\n",
       "      <td>8.000000</td>\n",
       "      <td>15.550000</td>\n",
       "      <td>10.850000</td>\n",
       "      <td>13.350000</td>\n",
       "      <td>31.000000</td>\n",
       "      <td>294.000000</td>\n",
       "    </tr>\n",
       "    <tr>\n",
       "      <th>max</th>\n",
       "      <td>2014.0</td>\n",
       "      <td>8.400000</td>\n",
       "      <td>12.000000</td>\n",
       "      <td>30.200000</td>\n",
       "      <td>20.500000</td>\n",
       "      <td>25.800000</td>\n",
       "      <td>60.000000</td>\n",
       "      <td>488.000000</td>\n",
       "    </tr>\n",
       "  </tbody>\n",
       "</table>\n",
       "</div>"
      ],
      "text/plain": [
       "       MODELYEAR   ENGINESIZE    CYLINDERS  FUELCONSUMPTION_CITY  \\\n",
       "count     1067.0  1067.000000  1067.000000           1067.000000   \n",
       "mean      2014.0     3.346298     5.794752             13.296532   \n",
       "std          0.0     1.415895     1.797447              4.101253   \n",
       "min       2014.0     1.000000     3.000000              4.600000   \n",
       "25%       2014.0     2.000000     4.000000             10.250000   \n",
       "50%       2014.0     3.400000     6.000000             12.600000   \n",
       "75%       2014.0     4.300000     8.000000             15.550000   \n",
       "max       2014.0     8.400000    12.000000             30.200000   \n",
       "\n",
       "       FUELCONSUMPTION_HWY  FUELCONSUMPTION_COMB  FUELCONSUMPTION_COMB_MPG  \\\n",
       "count          1067.000000           1067.000000               1067.000000   \n",
       "mean              9.474602             11.580881                 26.441425   \n",
       "std               2.794510              3.485595                  7.468702   \n",
       "min               4.900000              4.700000                 11.000000   \n",
       "25%               7.500000              9.000000                 21.000000   \n",
       "50%               8.800000             10.900000                 26.000000   \n",
       "75%              10.850000             13.350000                 31.000000   \n",
       "max              20.500000             25.800000                 60.000000   \n",
       "\n",
       "       CO2EMISSIONS  \n",
       "count   1067.000000  \n",
       "mean     256.228679  \n",
       "std       63.372304  \n",
       "min      108.000000  \n",
       "25%      207.000000  \n",
       "50%      251.000000  \n",
       "75%      294.000000  \n",
       "max      488.000000  "
      ]
     },
     "execution_count": 7,
     "metadata": {},
     "output_type": "execute_result"
    }
   ],
   "source": [
    "# summarize the data\n",
    "df.describe()"
   ]
  },
  {
   "cell_type": "markdown",
   "metadata": {},
   "source": [
    "Lets select some features to explore more.\n"
   ]
  },
  {
   "cell_type": "code",
   "execution_count": 9,
   "metadata": {
    "button": false,
    "new_sheet": false,
    "run_control": {
     "read_only": false
    }
   },
   "outputs": [
    {
     "data": {
      "text/html": [
       "<div>\n",
       "<style scoped>\n",
       "    .dataframe tbody tr th:only-of-type {\n",
       "        vertical-align: middle;\n",
       "    }\n",
       "\n",
       "    .dataframe tbody tr th {\n",
       "        vertical-align: top;\n",
       "    }\n",
       "\n",
       "    .dataframe thead th {\n",
       "        text-align: right;\n",
       "    }\n",
       "</style>\n",
       "<table border=\"1\" class=\"dataframe\">\n",
       "  <thead>\n",
       "    <tr style=\"text-align: right;\">\n",
       "      <th></th>\n",
       "      <th>ENGINESIZE</th>\n",
       "      <th>CYLINDERS</th>\n",
       "      <th>FUELCONSUMPTION_COMB</th>\n",
       "      <th>CO2EMISSIONS</th>\n",
       "    </tr>\n",
       "  </thead>\n",
       "  <tbody>\n",
       "    <tr>\n",
       "      <th>0</th>\n",
       "      <td>2.0</td>\n",
       "      <td>4</td>\n",
       "      <td>8.5</td>\n",
       "      <td>196</td>\n",
       "    </tr>\n",
       "    <tr>\n",
       "      <th>1</th>\n",
       "      <td>2.4</td>\n",
       "      <td>4</td>\n",
       "      <td>9.6</td>\n",
       "      <td>221</td>\n",
       "    </tr>\n",
       "    <tr>\n",
       "      <th>2</th>\n",
       "      <td>1.5</td>\n",
       "      <td>4</td>\n",
       "      <td>5.9</td>\n",
       "      <td>136</td>\n",
       "    </tr>\n",
       "    <tr>\n",
       "      <th>3</th>\n",
       "      <td>3.5</td>\n",
       "      <td>6</td>\n",
       "      <td>11.1</td>\n",
       "      <td>255</td>\n",
       "    </tr>\n",
       "    <tr>\n",
       "      <th>4</th>\n",
       "      <td>3.5</td>\n",
       "      <td>6</td>\n",
       "      <td>10.6</td>\n",
       "      <td>244</td>\n",
       "    </tr>\n",
       "    <tr>\n",
       "      <th>5</th>\n",
       "      <td>3.5</td>\n",
       "      <td>6</td>\n",
       "      <td>10.0</td>\n",
       "      <td>230</td>\n",
       "    </tr>\n",
       "    <tr>\n",
       "      <th>6</th>\n",
       "      <td>3.5</td>\n",
       "      <td>6</td>\n",
       "      <td>10.1</td>\n",
       "      <td>232</td>\n",
       "    </tr>\n",
       "    <tr>\n",
       "      <th>7</th>\n",
       "      <td>3.7</td>\n",
       "      <td>6</td>\n",
       "      <td>11.1</td>\n",
       "      <td>255</td>\n",
       "    </tr>\n",
       "    <tr>\n",
       "      <th>8</th>\n",
       "      <td>3.7</td>\n",
       "      <td>6</td>\n",
       "      <td>11.6</td>\n",
       "      <td>267</td>\n",
       "    </tr>\n",
       "  </tbody>\n",
       "</table>\n",
       "</div>"
      ],
      "text/plain": [
       "   ENGINESIZE  CYLINDERS  FUELCONSUMPTION_COMB  CO2EMISSIONS\n",
       "0         2.0          4                   8.5           196\n",
       "1         2.4          4                   9.6           221\n",
       "2         1.5          4                   5.9           136\n",
       "3         3.5          6                  11.1           255\n",
       "4         3.5          6                  10.6           244\n",
       "5         3.5          6                  10.0           230\n",
       "6         3.5          6                  10.1           232\n",
       "7         3.7          6                  11.1           255\n",
       "8         3.7          6                  11.6           267"
      ]
     },
     "execution_count": 9,
     "metadata": {},
     "output_type": "execute_result"
    }
   ],
   "source": [
    "cdf = df[['ENGINESIZE','CYLINDERS','FUELCONSUMPTION_COMB','CO2EMISSIONS']]\n",
    "cdf.head(9)"
   ]
  },
  {
   "cell_type": "markdown",
   "metadata": {},
   "source": [
    "We can plot each of these fearues:\n"
   ]
  },
  {
   "cell_type": "code",
   "execution_count": 10,
   "metadata": {
    "button": false,
    "new_sheet": false,
    "run_control": {
     "read_only": false
    }
   },
   "outputs": [
    {
     "data": {
      "image/png": "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\n",
      "text/plain": [
       "<Figure size 432x288 with 4 Axes>"
      ]
     },
     "metadata": {
      "needs_background": "light"
     },
     "output_type": "display_data"
    }
   ],
   "source": [
    "viz = cdf[['CYLINDERS','ENGINESIZE','CO2EMISSIONS','FUELCONSUMPTION_COMB']]\n",
    "viz.hist()\n",
    "plt.show()"
   ]
  },
  {
   "cell_type": "markdown",
   "metadata": {},
   "source": [
    "Now, lets plot each of these features vs the Emission, to see how linear is their relation:\n"
   ]
  },
  {
   "cell_type": "code",
   "execution_count": 7,
   "metadata": {
    "button": false,
    "new_sheet": false,
    "run_control": {
     "read_only": false
    }
   },
   "outputs": [
    {
     "data": {
      "image/png": "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\n",
      "text/plain": [
       "<Figure size 432x288 with 1 Axes>"
      ]
     },
     "metadata": {
      "needs_background": "light"
     },
     "output_type": "display_data"
    }
   ],
   "source": [
    "plt.scatter(cdf.FUELCONSUMPTION_COMB, cdf.CO2EMISSIONS,  color='blue')\n",
    "plt.xlabel(\"FUELCONSUMPTION_COMB\")\n",
    "plt.ylabel(\"Emission\")\n",
    "plt.show()"
   ]
  },
  {
   "cell_type": "code",
   "execution_count": 8,
   "metadata": {
    "button": false,
    "new_sheet": false,
    "run_control": {
     "read_only": false
    },
    "scrolled": true
   },
   "outputs": [
    {
     "data": {
      "image/png": "iVBORw0KGgoAAAANSUhEUgAAAYUAAAEHCAYAAABBW1qbAAAAOXRFWHRTb2Z0d2FyZQBNYXRwbG90bGliIHZlcnNpb24zLjMuNCwgaHR0cHM6Ly9tYXRwbG90bGliLm9yZy8QVMy6AAAACXBIWXMAAAsTAAALEwEAmpwYAAAwDElEQVR4nO2df5xddXnn389MJiGTqMAksoGQGUqBdmItypTWTX+gAbHRF2i3unFHzUt9NZjQFu36smazW7XddNnWttLdJjYVJJqpLFvtyotSlERtV0ulAQFJkCUuCQSykIA/QBBI8uwf59yZM3fOuefHPeeeO3c+79fr+7r3fs/5nvPcm8z3Od/neb7PY+6OEEIIAdBXtwBCCCG6BykFIYQQk0gpCCGEmERKQQghxCRSCkIIISaRUhBCCDHJvCovbmYHgKeB48Axdx8zs1OB/wGMAAeAt7n798LzNwHvDc//bXf/UqvrL1myxEdGRqoSXwghepI777zzqLsvjTtWqVIIea27H418/jCw292vNrMPh59/18xGgbXASuB0YJeZnevux5MuPDIywp49e6qUXQgheg4zO5h0rA7z0eXAjvD9DuDNkf4b3P15d38I2A9c2HnxhBBi7lK1UnDgy2Z2p5mtD/tOc/fDAOHry8P+M4BHImMPhX1CCCE6RNXmo1Xu/piZvRy4zcy+0+Jci+mbkYMjVC7rAVasWFGOlEIIIYCKVwru/lj4+gTwtwTmoMfNbBlA+PpEePoh4MzI8OXAYzHX3O7uY+4+tnRprJ9ECCFEQSpTCma2yMxe0ngPvB64D7gJWBeetg74Yvj+JmCtmS0ws7OAc4A7qpJPCCHETKpcKZwGfN3M7iGY3P/O3W8FrgYuMbMHgUvCz7j7XuBGYB9wK3Blq8gjIcTcYmICRkagry94nZioW6LexGZz6uyxsTFXSKoQvc/EBKxfD88+O9U3OAjbt8P4eH1yzVbM7E53H4s7ph3NQoiuZ/Pm6QoBgs+bN9cjTy8jpSCE6HoefjhfvyiOlIIQoutJij5XVHr5SCkIIbqeLVsCH0KUwcGgX5SLlIIQousZHw+cysPDYBa8yslcDZ1IiCeEEG0zPi4l0Am0UhBCCDGJlIIQQohJpBSEEEJMIqUghBBiEikFIYQQk0gpCCGEmERKQQghxCRSCkIIISaRUhBCCDGJlIIQQohJpBSEEEJMUrlSMLN+M/uWmd0cfv6omT1qZneHbU3k3E1mtt/MHjCzS6uWTQghxHQ6kRDvKuB+4KWRvj9z949HTzKzUWAtsBI4HdhlZueqTrMQQnSOSlcKZrYceCPwqQynXw7c4O7Pu/tDwH7gwirlE0IIMZ2qzUefAD4EnGjq/00zu9fMrjOzU8K+M4BHIuccCvuEEEJ0iMqUgpm9CXjC3e9sOrQNOBs4HzgM/EljSMxlPOa6681sj5ntOXLkSIkSCyGEqHKlsAq4zMwOADcArzOzne7+uLsfd/cTwF8xZSI6BJwZGb8ceKz5ou6+3d3H3H1s6dKlFYovhBBzj8qUgrtvcvfl7j5C4ED+iru/w8yWRU57C3Bf+P4mYK2ZLTCzs4BzgDuqkk8IIcRM6ijH+Udmdj6BaegAcAWAu+81sxuBfcAx4EpFHgkhRGfpyOY1d/+au78pfP9Od/8Zd3+lu1/m7ocj521x97Pd/Tx3//tOyCaEmB1MTMDICPT1Ba8TE3VL1JtoR7MQIpWNG2HePDALXjdu7Oz9JyZg/Xo4eBDcg9f166UYqkBKQQjRko0bYds2OB4ac48fDz53UjFs3gzPPju979lng35RLuY+I+pz1jA2NuZ79uypWwwhepq+vuDpvBkzONG8A6mHZeglzOxOdx+LO6aVghCiJUnPjZ18nlyxIl+/KI6UghCi69myBQYHp/cNDgb9olykFIQQXc/4OGzfDsPDgcloeDj4PD5et2S9h5SCEKIlGzbk66+K8XE4cCDwIRw4IIVQFVIKQvQAVcbwb90aKID+/uBzf3/weevW9q6rfQfdiZSCEBVTdYx/XAz/u98NS5aUN+Fu3QrHjgXXP3asHIWgfQfdiUJShaiQRox/M2U8aTcYGQkm1VYMDnaXDT5J5uHhwDQkqqVVSKqUghAVMm/e1KavKP39wRN3GSTF8DfTTROu9h3Ui/YpCFETcQqhVX8RssbqP/xw8XukmcDy+ge076B7kVIQokIsrnRUi/4ixMXwx1F0wk1Lc1HEP6B9B92LlIIQFVLGbuC0p/TmGP6hIZg/f/o57Uy4n/xk6/4ieYm076B7kVIQc5q6s3+mkTUZXTSG/+hReO97p4eQrltXfMJNU2xJZqk0c5X2HXQnUgpiztKJ7J+NiTlrfzPbt+frh8Bss2PH9O+1Y0d14Z7yD/QWUgpizlJkws3L+vX5+psp4qjudJpp+Qd6i8qVgpn1m9m3zOzm8POpZnabmT0Yvp4SOXeTme03swfM7NKqZRNzm05EBrW7G7jISqOoOSeJtDQX4+OBeaosc5Wol06sFK4C7o98/jCw293PAXaHnzGzUWAtsBJ4A7DVzDIusoXIT7umnay0sxu4yEqjbHNOmmLrtLlKVEulSsHMlgNvBD4V6b4c2BG+3wG8OdJ/g7s/7+4PAfuBC6uUT8xt2jXtdIJVqwIHeJR584L+JOLMOQMD8MwzxdNetFJsqorWW1S9UvgE8CEgukfxNHc/DBC+vjzsPwN4JHLeobBPiEqoKtFbmWzePHPn87FjMyfc6OaxzZsD8000RNUMnnyymjxDZZurRL1UphTM7E3AE+5+Z9YhMX0zguHMbL2Z7TGzPUeOHGlLRiHKTvRWNlkm3LjNYzt2BCuGEydg8WJ44YXp48t8klf0UW9R5UphFXCZmR0AbgBeZ2Y7gcfNbBlA+PpEeP4h4MzI+OXAY80Xdfft7j7m7mNLly6tUHwh6ifLhJtmvqn6Sb6q6KOVK4MVTqOtXNne9UQ2KlMK7r7J3Ze7+wiBA/kr7v4O4CZgXXjaOuCL4fubgLVmtsDMzgLOAe6oSj4hZgNZJty0Sb/qJ/kqdievXAn79k3v27dPiqET1LFP4WrgEjN7ELgk/Iy77wVuBPYBtwJXunuJwYFCzD6yTLhpk34n9hGUvTu5WSGk9c8lKt+F7+6ztl1wwQUuRN3s3Ok+POxuFrzu3Nn5+w8OugcehaANDk6Xo24Z8xL9Ls1tLrNhQ/xvsmFDvusAezxhXtWOZiHaoBsqiGVZTTQ/yYNKYc5GOrELX0pBiDaYjTH6VSiysp3Co6P5+ucKndiFL6UgRBvUEaMfnXwbLW2Sj+5jWLcuvyK7+OLp97v44qljVTiF9+6dqQBGR4P+uUwnduFLKQjRBp2O0U8qztNqkm9eGSQ9VSbVeb74Yti9e3rf7t1TiqEqp/DevdMt53NdIUBnduFLKQjRBt2cIbSxWokzccWR9LTZrBDS+kV1dGIXvpSCEG3QzRXEGquVrKasMu3Sojqq3oUvpSBEDxJdrWQ1ZQ0PVyePmD1IKQjRBt0QktogabUSZ+KKY82a+P7Vq/P1i9mNlIIQLYhG7cTF83c6JLVVveSkHcXNJq4k38Ett8T379o1UwGsXh30Q+fqUojOIKUgRAJZVgF1hKTG7WlNS30Q3bx24kTsZVvKvGvX9Ps1FAKUFxFTefoGkY2krc6zoSnNhaiS4eH4lALDw1PnDA3FnzM0VJ1cGza49/cH9+nvdx8dzZf6IMv3ysvq1dOvtXp1/u9URvoGkQ2U5kKI/HRj8ZiNG2HbtumlL5P2A2zbFm/2KjuMdmICbr99et/tt880tbUyxXUifYPISJK2mA1NKwVRJVmeqM3izzErT45oMrtWieJatSoT5CX9TkNDU/cYGnKfPz9ZJiXA6yxopSBEfrI8USeFe/b1lZNsrtmvUZRnnw3SWzRkgtaprlultWgmaSf0k09Oyf3kk62rv8lZ3T1IKQiRQJaNaUnhnsePlxOimnU3chayypSW1qJMGqa4iy6KP57UL6rDvJ3Hj5oZGxvzPXv21C2GmONMTAST98MPB0/icTuDh4enUlbnoa+vvRVCK/r7g5XCihWBcmsou6T8StFx69dP7aRNO78Vjd9lZCR+xVH0dxOtMbM73X0s7phWCkK0Sbvhnq1CMatKrAfTVw7veU/21czx44ETuyFnURNP1BTXjU79uUplSsHMTjKzO8zsHjPba2YfC/s/amaPmtndYVsTGbPJzPab2QNmdmlVsglRFYsW5euPiyaKTrg/+ZPlyxjHCy/AVVflG9OIDDrvvGznDwzA0FC8Ka7T2WZFC5I80O02wIDF4fsB4JvALwAfBT4Yc/4ocA+wADgL+C7Q3+oeij4S3UDW6KA4GvsNmlt/f+vj0Xb66TPLcRZt7jP3HKSd3+p7Z41wylJSVJQHdUQfhfd+Jvw4ELZW1tHLgRvc/Xl3fwjYD1xYlXxClEG70UFplbRaZS5tTJ+PPpotjUV/fzb7f1xai6TrNeRIolWEU5RuzjY716jUp2Bm/WZ2N/AEcJu7fzM89Jtmdq+ZXWdmp4R9ZwCPRIYfCvuE6Bh5Uy20Gx2UFoqZNVTzG9+AQ4eCCfrEiUD2KIODsGNHcGxoKP6a0f5oWosNG+LPL7OwC8ysIy2FUA+VKgV3P+7u5wPLgQvN7BXANuBs4HzgMPAn4elxzzAznkHMbL2Z7TGzPUeOHKlEbjE3SbPvx5EUo5+VJHt8oz9p4j1+fGoPwfz50+V2D/LsL1489dS9bl2gwPrCv/hmpTIwANdcE3+vtMIuJ50UPy6pX3Q3HQtJNbOPAD9y949H+kaAm939FWa2CcDd/0t47EvAR9399rjrgUJSRbnMmxdvrunvDybZPGOaSQpVbYSFtjp/48bAlJK3CE5D7oaJK7qiGRiAl74UnnpqZkhqXpYsCTanNTM0BEePFrumqJZaQlLNbKmZnRy+XwhcDHzHzJZFTnsLcF/4/iZgrZktMLOzgHOAO6qST4hm0uz7eY9FSQpVzdIfrbSVh4ZscSauF18MJnL3wOz0jW/ku3aUp57K1y+6m3nppxRmGbDDzPoJlM+N7n6zmX3WzM4nMA0dAK4AcPe9ZnYjsA84Blzp7ioQKDpGf3/yJN9w0I6OTi8gPzyczYRUR1WzhrknLda/YSaDYqUdk1ZSSlExO6ky+uhed3+Vu7/S3V/h7r8f9r/T3X8m7L/M3Q9Hxmxx97Pd/Tx3//uqZBOiQdSxnOWpf98+WLly6nPWqmad2m8QpeGPyBrrXzQjaZJpLalfdDfa0SwKk1aVrNtlaHYsN0gL24ymqm4OpUzia1/LLlcrTj45vn9gINkRnFVx5fVZiB4laQPDbGjavFYf3bDZqF0Z0jaOFUnnnHdM3vOLFqPJssGu8b3zUuR3EvVCi81rSognCtENCczalaHVk717+vE48kYw5b1HkQipZhorpGaiq4s8FPmdRL20HX0URhL9BzPbHm44u87MritXTDGb6IYEZu3KkLYxbHQ0/nhzf9SEtXBh/JiyNnoViZBqZtWqqf0KDfr6gv4iJG1uS+oX3U1Wn8IXgZcBu4C/izQxR+mGBGZZZGjlc0grOL9370wF0Bx91Jzm4plnZk64q1cnP4EnPWUn9ZdRjGbz5pmhsCdOTBW8iaMb/EeiQyTZlaINuDvLeZ1u8inUx2zwKWSRccOGKd9Cf3/+QvFJpSiz/i6d8ilEyVtCNO13TPPNiO6DFj6FrErhPwNrspzbySalUC/tTqhl0KrWcJYay+1c3z173eSkexaRsSpFVlRGOZpnH62UQlbz0VXAzWb2YzN7Omw/rGTpImYFExNBgrVonqAdO7rLrNCuz6HZNBRXxjKruSzpnlnqQDcT3eF87Fh+5/CaNfn6037HvCYw0eUkaYvZ0LRSqI8ynsLbJc2ssWhRvIyLFmW7fpbvuHOn+/z56SuF/v7k1UanV1x1rRTSVl2ic9Cu+Si4BpcBHw/bm7KOq7JJKdRHXrt0FvJOGlWbNbKM37nTfWAgXSkkKa648QMDrb973Pl5KNunkPV3ar6vmRRDXbStFICrgd3Ae8J2G3B1lrFVNimF+ih7pVDEcZ02uXVCKST9Do2VQZITtvE7DQ3FHx8aipcpSQHlUQxF/u1aKewsv1PSamr+/Oxyi/IoQyncC/RFPvcD92YZW2WTUqiPsqOP0ibXuJVDN6wU2lVMeWVs9zu5x5u85s8v/m+XZeVRhtyiPFophTy5j06OvH9ZYSeG6AnKLp+Y5Mw8fjyYOuKcvEWctGWTtleijH0FVRA82yV/zsP73pevX3Q5Sdoi2oC3AweB64EdwEPA2ixjq2xaKfQOWeL940wc7Zo1WpFlfLv29qpWCq2c11UECaQ5y7VS6C4oydG8jMDZfDnwr7KOq7JJKfQOO3e69/VlUwxZI3WymDVaKZXR0fjxo6MzZS+6VyLvZJnFp5C2wa2KIIE0Vq+Ov+fq1dXdUyRTWCkAPxW+vjqutRrbiSal0DskTWRZWpJiWLw4/vzFi4PjWWzrzYqhWSGkUUbkTjNp0UdJyrWvL9vvUhXNikEKoT7aUQrbw9evxrSvtBrbiSalUC9lxp0nRelkXTnEkTbh5o38yUrz77JhQ3UmrjjSrtlqF7b2EMwNSjEf5W3ASQQ1lu8B9gIfC/tPJQhpfTB8PSUyZhOwH3gAuDTtHlIK9VF29FFRhdBqAq2iXkIaeX+XOpRClt+z03msRGdppRQy1VMws7cCt7r702b2H0Pz0R+4+7dajDFgkbs/Y2YDwNcJ0mX8GvCUu19tZh8OlcLvmtko8DngQuB0goys53qLOs2qp1AfZddTSKoTkIWitQqqqAOQ93epQoa+vvixZkE21Ky/dSdrY4jO0nY9BeA/hQrhF4FLCSKQPtlqQKiQngk/DoTNCRzVO8L+HcCbw/eXAze4+/Pu/hDBiuHCjPKJDpNUrD5LEfs42qk3kDR28eLW/UND8ceT+rOQFFp78GB5aaejdaXnzQs+R0lSJo3+iy7Kdp9O1sYQ3UNWpdB4rngjsM3dvwjMTxtkZv1mdjfwBHCbu38TOM3dDwOEry8PTz8DeCQy/FDYJ7qQsuPv4wq/xLF48fRaxKtXwy23xE+4P/pR/DUa/ddcE9Q2jjIwEPTnITpJt3q6dw+Uw7vfXVwxNNeVPn48+NysGFqxf3+28zpZG0N0EUl2pWgDbgb+EvguwSa2BcA9WcaG408mcE6/Avh+07Hvha9/Abwj0n8t8G9irrUe2APsWbFiRXlGNpGLLLbwPI7orPsUYOqaQ0Mzo4eK5ORpx1leNGqq4cwu20+Sds2sqb7z+hSU7G52QQlpLgYJfAHnhJ+XAa/PMjZyjY8AHyRwIi+LXOeB8P0mYFPk/C8Br2l1TTma6yMtcqdMh2veVmae/4ULp49buHD68VZRU2kTcJbfMc/vVMZvWWRSL5LUT9RLK6WQ1dF8NnDI3Z83s4uAVwKfcffvtxizFHjR3b9vZguBLwP/FfgV4EmfcjSf6u4fMrOVwF8z5WjeHSohOZq7kLQC8mU6XPPScKgWceJu3Bik62jliF24EJ59dupere6Rdnzx4ngz16JFQWnPZrJ8p3Z+ywzTwQyWLIEnn5zZPzQER48Wl0VURxmO5s8Dx83sJwnMOmcRTOCtWAZ81czuBf6FwKdwM0HG1UvM7EHgkvAz7r4XuBHYB9wKXNlKIfQ6ZdfETXNO5iWtgHy7BW7aoagtvNlen8Rzz029b9e3kub3mA3EKYRW/aLLSVpCRBtwV/j6IeC3wvffyjK2ytar5qOy9wCUUde3mTQzRt78OmWZjtrZLZxnA13W3zbtGnllrNp8VISyryeqhxJ8Ct8kSIp3H3BW2HdflrFVtl5VCmUnLKuisHraRNBpn0IZu4WLTp6tksGl+QyqUAp5nPbRVjTtRFU7w0V1tFIKWc1H7wZeA2xx94fM7CxgZ3nrFRGlbNNLmqmnCspOrZ3GiROBr6Kq60dZuHD651WrYPny4HsuXx58blBW2GuDDRvS++NSijdMhxCYtk4/ffrx1ath165iMl1zDcxvClCfP7/4dxQ1k6QtZkPr1ZVC2U9eaQnSilC2yaCd3EdJ98z7O2YJ12z+zbKsiFqFaxbJHpqlpnP0nkNDM6ODyk5joZDU2QVFVwpmdmP4+m0zuzfSvh06kMUsoPnJNq2/DqpYtZx/fr5+9/Rrnjgx3Um/efNUJFKDZ5+FdeumggQgWMXErWbOPTf+Pkn9AFu3BhFe7sHr1q0zzxkfn7rn4sXw4oszZdy8OfkeeYner1MrNlENLUNSzWyZux82s+G44+5eMKlBOfRqSGpa7pq6r9cYm0SWybWZl7wkPgQzK3H3TAubzXp+q/FJv22UwcFk01leGWF62Gx/f5DmI04xNKji31/MbgqHpPpUOoqDoQL4HvB0pIkKSCvxWPf1qqCKEMy8vpSs+Zei47P8hq2eyvPKWCTNRSf+/csOoRY1kmRXijbgCuBx4ABBKc6HgP+bZWyVrVd9CmUXVm/X7h1H2T6FdvwJ0RYtglMk6ipqr09q0fFxv22e3yWvjEW+U9khzp2+vigfSghJfRBYkuXcTrZeVgplpw1oNekXuV8RpVC0nnJRxVBkf0ZUKSQ5npvHR79XFkXSfL88MhZVxlU6gquo+SyqpQylcCswmOXcTrZeVQqd/iMrEu2Ud3JqpyxlkdYgS6RO9NxW10wbX+R3yStjFXtO2qWOms+iPVophay5j14FfJpgE9vzEdPTb5dmxyqAHM3lUMRpnGXMxERgS3/44eA7xdnJG7mQysx9FJUhD2U4z/PmMsrLypWwb9/M/tFR2Lu3/esXoeyCS6J6ysh99JfAV4B/Bu6MNFEBzRuP0vq7kYmJwHF78GAwoSY5TosW5elWmsNT0/rz8sAD+fo7QdxmucHBoF/MPrIqhWPu/jvu/ml339FolUo2h4kmXMvS3y5VVCCLi9+Po2hRnlaMjpZ/zawkrSharTTyRO7UsTs9jU7vXhfVklUpfNXM1pvZMjM7tdEqlWwOk2QiqiqmvIo0BVlXAGVPZu2YUZLMR2WbtqJMTASV2BorqrTKbGVXvCsLbV7rHbIqhX9HUATnn5gyHfWeMb+HaH763Lgx+Wl0fByuu276k95117X3h511kmpnNRKl4d5sVgh5nsLf9758/WVw1VUzdxu/+GLQH0fSXop2alwLMY0kD/RsaL0afVQ07LBBltj5vr72whLTZMwaJZQlW2iWlhRqmzd+Pk8kUJHfpd3zy5CxCpT7aHZB0ZBU4EOR929tOvaHrcZ2okkpxJM1dfKiRdXJmJSEr10lktaim/zqiJ/vhFLoNrR5bfbRSimkmY/WRt5vajr2hpIWK6KJdh2/We35VVb3yuP/6MtqxMzACy9MmV7qqP6W99+uCid/p0lKClhmwj3ROdL+HC3hfdzn6QfNzjSzr5rZ/Wa218yuCvs/amaPmtndYVsTGbPJzPab2QNmdmmub9JDzLX89MHCszwaZSDryPmU99+uF/6t6yy9KiogaQkRrDCCMpzN7+M+x4xdBrw6fP8S4P8Ao8BHgQ/GnD8K3AMsIKgB/V2gv9U9etV85N6ejTarqSVaG6Ds3EdZahNU2RrfqQ6zRt7fcrbb45XmYvZBC/PRvBSd8bNm9kOCVcHC8D3h55NSlM1hoJFl9Wkzux84o8WQy4Eb3P154CEz2w9cCNyeIqMoyBVXBK+NjWYNE8DBg1PRLEUjkMp++i9CQ/bGruoVK4INVVWHS46P57tH3vO7jS1bpv//AW1em9UkaYsyGzACPAy8lGClcAC4F7gOOCU8578D74iMuRb49VbX7dWVws6dM5+0zbI/QaY9RTdHrBR50kt7Sk/Kp9TJlcJcptOrj9m+2plr0G7uo3Yws8XAPxDUd/6CmZ0GHAUc+ANgmbu/x8z+Arjd3XeG464FbnH3zzddbz2wHmDFihUXHOy1PAnAggWBw7SZ+fPh+edn9jeTN4dPkVxLafdYsmTKtl8H3bBSqYvmlR+0LvQj5h5l5D4qeuMB4PPAhLt/AcDdH3f34+5+AvgrAhMRwCHgzMjw5cBjzdd09+3uPubuY0uXLq1S/NqIUwit+tulCofsU08VHyvaQ9FAoh0qUwpmZgQmoPvd/U8j/csip70FuC98fxOw1swWmNlZwDnAHVXJJ6aoIqHZqUqCUhuKBhLtUOVKYRXwTuB1TeGnf2Rm3zaze4HXAh8AcPe9wI3APoL6DVe6e41pvnoTs6AucLR8YycTmvX1VZtLSMyO8quie0mLPiqMu3+d+L0Mt7QYswVQzELFNOr6QuuC76046ST48Y/j+yHZfOQe+CmqVAyzaeNXFSgaSLRDpT4FUQ9ZU0dv3x68TkzAu941PVPnu97VOnncT/xE6/66nlYHBmbXxq8qUCpr0Q5SChWQJzNnFcRV5oqjkbb6iitmRhmdODG1jyHPPRr9a9bEH0/qb4fFi6cmv09/WpMfKJW1KE5l5qO5ShUbwaL09ZW/CSspB1I7uZFuSTASJvW3w3PPVVdrQoi5hlYKJVN1OGDDvLN+ffsrkCrt+p2MgKmz6pgQvYaUQsl0ajIsQ9FUucGrkz6FuquOCdFLSCmUTCcnw26OO0/b+1DmRK6qY0KUh5RCyXTSwdrNcedpETDnnVf82g2F0t8PGzYUD6sVQsyk8txHVTI2NuZ79nRXqeiknD9DQ3D0aLZrZLH1t8plk8dX4F5N7qM05s0r5gvImv9JCJFMbbmP5iJJSeDKSg5XRdx5HQXrizqHf+mXypVDCDEdhaTOMqoIvWyYX7ZvDybr/v7ATl+lWaa/v5hi+NrXShdFCBFBK4Ua2LgxMJ/E5SGqi61b4dixwPRz7Fj1dvqizmGFnwpRLVoplIxZsn0eAgXQyDsE5eQhqoO075lG8+okKwo/FaJatFIoQKs0FklO1kZ/I99QM0n9nSLv6uWnfzpffxzR1cnpp2cbo/BTIapFK4WctJvGIumpuE6zSJHVy/335+tPY2Cg9fFO+DmEEApJzc3ISKAImhkeDhKPpYVqJoVi9vcHT83Qfrhn3pDULDLluUeR/1JlX08IkYxCUkskqSR01lLRF12Ur79KFi4MXrth9ZLkK5APQYjOIqWQk3Ynr7vvztdfJc89F7wW+U6LF+frT6MbFJMQotoazWea2VfN7H4z22tmV4X9p5rZbWb2YPh6SmTMJjPbb2YPmNmlVcnWDu1OXlVvbitCkvO2lVP3k58MzE5R5s0L+oswPJyvXwhRDVWuFI4B/97dfxr4BeBKMxsFPgzsdvdzgN3hZ8Jja4GVwBuArWbWdcaD2TB5nXxyvvO3bg1yCOXJKTQ+DtdfPz230fXXF99l3cmcUUKIZCpTCu5+2N3vCt8/DdwPnAFcDuwIT9sBvDl8fzlwg7s/7+4PAfuBC6uSryizYfL6/vfzjymyea3M6l6dLMojhEimIz4FMxsBXgV8EzjN3Q9DoDiAl4ennQE8Ehl2KOzrKpImqe3bg30LohidLMojhEim8mnMzBYDnwfe7+4/bHVqTN+MYEQzW29me8xsz5EjR8oSMzNJUUbHj3cmdLKuus9V08k6FEKIZCpVCmY2QKAQJtz9C2H342a2LDy+DHgi7D8EnBkZvhx4rPma7r7d3cfcfWzp0qXVCZ9A3SGSZZbj7CbSivIIITpDldFHBlwL3O/ufxo5dBOwLny/DvhipH+tmS0ws7OAc4A7qpKvKN0SIllm3eeitEr3kZfxcVi3brqze9268tKDCyGyUeVKYRXwTuB1ZnZ32NYAVwOXmNmDwCXhZ9x9L3AjsA+4FbjS3btkCu5OkuztixZlG59n53MzjXQfBw+Ws3qZmAjCWRtK9/jx4HMvrYaEmA0ozUVO2plI3bOlc8h6j0ZqjWYuvhh2704fv2gRPPNMtns1k5buIy8nnRRfUW3BAvjxj/NfTwiRjNJc9CCt7O1f+Uq2a/zoR8XvX3a0UFKJTZXeFKKzSCnMMrKU4+zE4k/RQkL0JkqdPcuoohxnEbZsmZ5CHBQtJEQvoJVCD9KO3yMr4+PBaiWa5qLV6iWN1avz9QshqkGO5pzU7Wgus57C0BAcPZrt3E7Q7CBfvRp27apPHiF6FTma5xhZk/O97W3VypGXc8+dvk/h3HPrlUeIuYiUQg8Stzs4js98pnpZstIoCRrdp7BtW3qtaCFEuUgp9CDN9v4k2glJLZvt2/P1CyGqQUqhR4mmtZ4NqPKaEN2BlEKHSUpBEe0vOxInabXQiSglIcTsQkqhQzSqoWWZoPfvjz8nqV8IIcpCSqFDvOxlwWtSrqFof1LNhqT+NJLCWLspGnk2lDkVYi4gpdAhVEGsNaqnIER3IKUQw8aNMG9eYNKZN6+csMhTT23/Gr1M2TukhRDFUO6jJhrx8g0a8fKQrZh9N7J6dXwq7W5LITE+LiUgRN1opdBEWrz80FCx6z71VLFxZbBr10wFoBQSQog4pBSaSIuXL5oaou6U0rt2BY7lRpNCEELEUWWN5uvM7Akzuy/S91Eze7SpPGfj2CYz229mD5jZpVXJBa1rCzdy7zTT6L/llvz3GxiYcphmCUmdPz/+nKR+IYQoiypXCtcDb4jp/zN3Pz9stwCY2SiwFlgZjtlqZgnTc3uk1RZevz5+XKO/SBRRdMLPEh563XUzlYdZ0C+EEFVSmVJw938EslrSLwducPfn3f0hYD9wYRVybd48vTAMBJ83bw7eb90KGzZMz9a5YcOUkznJDNTfH0zccSuNF16Yun6WePzxcfjsZ6dH4nz2s3LCCiGqpw6fwm+a2b2heemUsO8M4JHIOYfCvtLJUlt41SpYvjyYkJcvDz43SIqn37EjyDOUlGuocf2s8fjR3EUHDkghCCE6Q6eVwjbgbOB84DDwJ2F/nKU91tBiZuvNbI+Z7Tly5EhuAZJSSjf608xLcfH069YFK4G+vqDF0VhhZI3Hb+X3yEK744UQcxR3r6wBI8B9aceATcCmyLEvAa9Ju/4FF1zgeenri8bgTLW+vuD48HD88f5+d7Pg+M6dU9fbudN9cDB+TKMNDk4fk0bcNfNcY+dO9/nzp4+fPz+fDEKI3gXY4wnzaqXlOM1sBLjZ3V8Rfl7m7ofD9x8Aft7d15rZSuCvCfwIpwO7gXPcvWXi5CLlONNKXfb1pecEGhycerofGYnPSdTfH5h+VqwITEN5zD9J1xweDkxJaSxZAk8+ObO/28pvCiHqoZZynGb2OeB24DwzO2Rm7wX+yMy+bWb3Aq8FPgDg7nuBG4F9wK3AlWkKoShpIadZ9hNEHdNJPoqGf6GIPyCL36MVcQqh0V9m6g4hRO9RZfTR2919mbsPuPtyd7/W3d/p7j/j7q9098saq4bw/C3ufra7n+fuf1+VXGkhp2vWxB9vpjFBJymRdjarJeVJKit/kkpdCiGSmHM7mtNCTrNuTmtM+klKJKtyqYKsqThU6lII0cycUwoQKIBjxwLfwbFj0xPdZTHRRENIk5RIkZ3PDZLyJGXNn3TNNcEu6jRU6lII0cycVAqtSNuc1hxC2q79P48MWU1S4+Pw6U9Phb0mkeRfEULMXaQUmkjbnNbsOC4ygaftISij4Ex081tSiuyLLsp+PSHE3EBKoYm8xV7yTuBpm+OKyJCGaj4LIbIipRBDnhQTeSfwtNxLVVCFiUsI0ZtIKRSg2fwD2ZVI3Ka05v4sq4k8VBE2K4ToTaQUctLuhJ22eQ7KX02U4aMQQswNpBRy0u6EnVbZDco395TtoxBC9C7z6hZgttHuhD08nJzXqMGKFfHntGPuGR+XEhBCpKOVQk7atc9nMeXI3COEqAsphZy0O2FnMeXI3COEqItKU2dXTZHU2WUwMRH4EB5+uFhqbCGEqJNaUmf3Mu2WysxSFU2V04QQdSClUAJ5JvAsIa1l71MQQoisyHzUJo0JPBqmGq3M1kyWqmrtVl4TQohWtDIfSSm0Sd4JPKncp1lgjsp6jhBCFKWucpzXmdkTZnZfpO9UM7vNzB4MX0+JHNtkZvvN7AEzu7Qqucom776FLCGtSkshhKiLKn0K1wNvaOr7MLDb3c8BdoefMbNRYC2wMhyz1cxmRbb/vBO49ikIIbqZKms0/yPQXCvscmBH+H4H8OZI/w3u/ry7PwTsBy6sSrYyyTuBa5+CEKKb6XSai9Pc/TCAux82s5eH/WcA/xw571DY1/U0Juo8+xaypJxQWgohRB10S+6juKKRsR5wM1sPrAdY0SVGdk3gQoheodP7FB43s2UA4esTYf8h4MzIecuBx+Iu4O7b3X3M3ceWLl1aqbBCCDHX6LRSuAlYF75fB3wx0r/WzBaY2VnAOcAdHZZNCCHmPJWZj8zsc8BFwBIzOwR8BLgauNHM3gs8DLwVwN33mtmNwD7gGHCluydUHhBCCFEVlSkFd397wqHVCedvARR0KYQQNaLcR0IIISaZ1WkuzOwIEJNkIjNLgKMliVMVkrEcJGM5SMZyqFvGYXePjdSZ1UqhXcxsT1L+j25BMpaDZCwHyVgO3SyjzEdCCCEmkVIQQggxyVxXCtvrFiADkrEcJGM5SMZy6FoZ57RPQQghxHTm+kpBCCFEhDmnFOKK/3QbZnammX3VzO43s71mdlXdMjVjZieZ2R1mdk8o48fqlikJM+s3s2+Z2c11y5KEmR0ws2+b2d1mVm85wQTM7GQz+xsz+074f/M1dcsUxczOC3+/Rvuhmb2/brmaMbMPhH8z95nZ58zspLplijLnzEdm9svAM8Bn3P0VdcsTR5gscJm732VmLwHuBN7s7vtqFm0SMzNgkbs/Y2YDwNeBq9z9n1OGdhwz+x1gDHipu7+pbnniMLMDwJi7d218vZntAP63u3/KzOYDg+7+/ZrFiiUs0vUo8PPu3s5eplIxszMI/lZG3f25ML3PLe5+fb2STTHnVgoJxX+6Cnc/7O53he+fBu6ny+pLeMAz4ceBsHXdE4aZLQfeCHyqbllmM2b2UuCXgWsB3P2FblUIIauB73aTQogwD1hoZvOAQRIyQtfFnFMKsw0zGwFeBXyzZlFmEJpl7iZIgX6bu3edjMAngA8BJ2qWIw0Hvmxmd4Y1Q7qNnwCOAJ8OTXGfMrNFdQvVgrXA5+oWohl3fxT4OEFC0MPAD9z9y/VKNR0phS7GzBYDnwfe7+4/rFueZtz9uLufT1D/4kIz6ypznJm9CXjC3e+sW5YMrHL3VwO/ClwZmjm7iXnAq4Ft7v4q4EeENda7jdC0dRnwP+uWpRkzO4Wg/PBZwOnAIjN7R71STUdKoUsJ7fSfBybc/Qt1y9OK0IzwNeAN9Uoyg1XAZaG9/gbgdWa2s16R4nH3x8LXJ4C/pftqlB8CDkVWg39DoCS6kV8F7nL3x+sWJIaLgYfc/Yi7vwh8AfjXNcs0DSmFLiR04l4L3O/uf1q3PHGY2VIzOzl8v5DgP/t3ahWqCXff5O7L3X2EwJzwFXfvqqcyADNbFAYUEJpkXg90VXScu/8/4BEzOy/sWk1Q/6QbeTtdaDoKeRj4BTMbDP/OVxP4DLuGOacUwuI/twPnmdmhsOBPt7EKeCfBk20jvG5N3UI1sQz4qpndC/wLgU+ha0M+u5zTgK+b2T0EFQf/zt1vrVmmOH4LmAj/zc8H/rBecWZiZoPAJQRP4F1HuNL6G+Au4NsEc3BX7W6ecyGpQgghkplzKwUhhBDJSCkIIYSYREpBCCHEJFIKQgghJpFSEEIIMYmUgpgzmNnxpiyahXfkmtk/lSlb07XHzOzPq7q+EK1QSKqYM5jZM+6+uG45hOhmtFIQc56wlsHHzOyusKbBT4X9S83strD/L83soJktCY89E75eZGZfi9QZmAh3qmJmF5jZP4RJ7r4UpkRvvvdbw7z695jZP0aueXP4/pbIyuYHZrYuTET4x2b2L2Z2r5ld0anfSvQ+UgpiLrGwyXz0byPHjoYJ6bYBHwz7PkKQGuPVBPmIViRc91XA+4FRgmyiq8LcVf8N+HV3vwC4DtgSM/b3gEvd/WcJkrhNw93XhEkH3wscBP5X+P4H7v5zwM8Bv2FmZ2X8DYRoyby6BRCigzwXTrBxNNIi3An8Wvj+F4G3ALj7rWb2vYSxd7j7IYAwlfgI8H3gFcBt4cKhnyBVcjPfAK4Pi63EpmYIVyefBd7m7j8ws9cDrzSzXw9PeRlwDvBQgnxCZEZKQYiA58PX40z9XVjOsdHxBux195YlK939fWb28wSFgO42s/Ojx8MKYjcAv+/ujSR5BvyWu38po3xCZEbmIyGS+TrwNoDw6fyUHGMfAJZaWMfYzAbMbGXzSWZ2trt/091/DzgKnNl0ytXAve5+Q6TvS8CG0ESFmZ3b5QVvxCxCKwUxl1gYmnca3OrurcJSPwZ8LvQ9/AOB+efpLDdy9xdC886fm9nLCP7WPgHsbTr1j83sHIKn/93APcCvRI5/ENgbkfv3CEqLjgB3hU7tI8Cbs8glRBoKSRUiATNbABx392PhE/+2Fj4JIXoCrRSESGYFcKOZ9QEvAL9RszxCVI5WCkIIISaRo1kIIcQkUgpCCCEmkVIQQggxiZSCEEKISaQUhBBCTCKlIIQQYpL/D/ZoRF15citXAAAAAElFTkSuQmCC\n",
      "text/plain": [
       "<Figure size 432x288 with 1 Axes>"
      ]
     },
     "metadata": {
      "needs_background": "light"
     },
     "output_type": "display_data"
    }
   ],
   "source": [
    "plt.scatter(cdf.ENGINESIZE, cdf.CO2EMISSIONS,  color='blue')\n",
    "plt.xlabel(\"Engine size\")\n",
    "plt.ylabel(\"Emission\")\n",
    "plt.show()"
   ]
  },
  {
   "cell_type": "markdown",
   "metadata": {},
   "source": [
    "## Practice\n",
    "\n",
    "Plot **CYLINDER** vs the Emission, to see how linear is their relation:\n"
   ]
  },
  {
   "cell_type": "code",
   "execution_count": 9,
   "metadata": {
    "button": false,
    "new_sheet": false,
    "run_control": {
     "read_only": false
    }
   },
   "outputs": [
    {
     "data": {
      "image/png": "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\n",
      "text/plain": [
       "<Figure size 432x288 with 1 Axes>"
      ]
     },
     "metadata": {
      "needs_background": "light"
     },
     "output_type": "display_data"
    }
   ],
   "source": [
    "# write your code here\n",
    "plt.scatter(cdf.CYLINDERS, cdf.CO2EMISSIONS, color='blue')\n",
    "plt.xlabel(\"Cylinders\")\n",
    "plt.ylabel(\"Emission\")\n",
    "plt.show()\n"
   ]
  },
  {
   "cell_type": "markdown",
   "metadata": {},
   "source": [
    "<details><summary>Click here for the solution</summary>\n",
    "\n",
    "```python\n",
    "plt.scatter(cdf.CYLINDERS, cdf.CO2EMISSIONS, color='blue')\n",
    "plt.xlabel(\"Cylinders\")\n",
    "plt.ylabel(\"Emission\")\n",
    "plt.show()\n",
    "\n",
    "```\n",
    "\n",
    "</details>\n"
   ]
  },
  {
   "cell_type": "markdown",
   "metadata": {
    "button": false,
    "new_sheet": false,
    "run_control": {
     "read_only": false
    }
   },
   "source": [
    "#### Creating train and test dataset\n",
    "\n",
    "Train/Test Split involves splitting the dataset into training and testing sets respectively, which are mutually exclusive. After which, you train with the training set and test with the testing set. \n",
    "This will provide a more accurate evaluation on out-of-sample accuracy because the testing dataset is not part of the dataset that have been used to train the data. It is more realistic for real world problems.\n",
    "\n",
    "This means that we know the outcome of each data point in this dataset, making it great to test with! And since this data has not been used to train the model, the model has no knowledge of the outcome of these data points. So, in essence, it is truly an out-of-sample testing.\n",
    "\n",
    "Lets split our dataset into train and test sets, 80% of the entire data for training, and the 20% for testing. We create a mask to select random rows using **np.random.rand()** function: \n"
   ]
  },
  {
   "cell_type": "code",
   "execution_count": 10,
   "metadata": {
    "button": false,
    "new_sheet": false,
    "run_control": {
     "read_only": false
    }
   },
   "outputs": [],
   "source": [
    "msk = np.random.rand(len(df)) < 0.8\n",
    "train = cdf[msk]\n",
    "test = cdf[~msk]"
   ]
  },
  {
   "cell_type": "markdown",
   "metadata": {
    "button": false,
    "new_sheet": false,
    "run_control": {
     "read_only": false
    }
   },
   "source": [
    "### Simple Regression Model\n",
    "\n",
    "Linear Regression fits a linear model with coefficients B = (B1, ..., Bn) to minimize the 'residual sum of squares' between the actual value y in the dataset, and the predicted value yhat using linear approximation. \n"
   ]
  },
  {
   "cell_type": "markdown",
   "metadata": {
    "button": false,
    "new_sheet": false,
    "run_control": {
     "read_only": false
    }
   },
   "source": [
    "#### Train data distribution\n"
   ]
  },
  {
   "cell_type": "code",
   "execution_count": 11,
   "metadata": {
    "button": false,
    "new_sheet": false,
    "run_control": {
     "read_only": false
    }
   },
   "outputs": [
    {
     "data": {
      "image/png": "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\n",
      "text/plain": [
       "<Figure size 432x288 with 1 Axes>"
      ]
     },
     "metadata": {
      "needs_background": "light"
     },
     "output_type": "display_data"
    }
   ],
   "source": [
    "plt.scatter(train.ENGINESIZE, train.CO2EMISSIONS,  color='blue')\n",
    "plt.xlabel(\"Engine size\")\n",
    "plt.ylabel(\"Emission\")\n",
    "plt.show()     "
   ]
  },
  {
   "cell_type": "markdown",
   "metadata": {
    "button": false,
    "new_sheet": false,
    "run_control": {
     "read_only": false
    }
   },
   "source": [
    "#### Modeling\n",
    "\n",
    "Using sklearn package to model data.\n"
   ]
  },
  {
   "cell_type": "code",
   "execution_count": 12,
   "metadata": {
    "button": false,
    "new_sheet": false,
    "run_control": {
     "read_only": false
    }
   },
   "outputs": [
    {
     "name": "stdout",
     "output_type": "stream",
     "text": [
      "Coefficients:  [[38.95323298]]\n",
      "Intercept:  [124.77244637]\n"
     ]
    }
   ],
   "source": [
    "from sklearn import linear_model\n",
    "regr = linear_model.LinearRegression()\n",
    "train_x = np.asanyarray(train[['ENGINESIZE']])\n",
    "train_y = np.asanyarray(train[['CO2EMISSIONS']])\n",
    "regr.fit (train_x, train_y)\n",
    "# The coefficients\n",
    "print ('Coefficients: ', regr.coef_)\n",
    "print ('Intercept: ',regr.intercept_)"
   ]
  },
  {
   "cell_type": "markdown",
   "metadata": {},
   "source": [
    "As mentioned before, **Coefficient** and **Intercept** in the simple linear regression, are the parameters of the fit line. \n",
    "Given that it is a simple linear regression, with only 2 parameters, and knowing that the parameters are the intercept and slope of the line, sklearn can estimate them directly from our data. \n",
    "Notice that all of the data must be available to traverse and calculate the parameters.\n"
   ]
  },
  {
   "cell_type": "markdown",
   "metadata": {
    "button": false,
    "new_sheet": false,
    "run_control": {
     "read_only": false
    }
   },
   "source": [
    "#### Plot outputs\n"
   ]
  },
  {
   "cell_type": "markdown",
   "metadata": {},
   "source": [
    "We can plot the fit line over the data:\n"
   ]
  },
  {
   "cell_type": "code",
   "execution_count": 13,
   "metadata": {
    "button": false,
    "new_sheet": false,
    "run_control": {
     "read_only": false
    }
   },
   "outputs": [
    {
     "data": {
      "text/plain": [
       "Text(0, 0.5, 'Emission')"
      ]
     },
     "execution_count": 13,
     "metadata": {},
     "output_type": "execute_result"
    },
    {
     "data": {
      "image/png": "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\n",
      "text/plain": [
       "<Figure size 432x288 with 1 Axes>"
      ]
     },
     "metadata": {
      "needs_background": "light"
     },
     "output_type": "display_data"
    }
   ],
   "source": [
    "plt.scatter(train.ENGINESIZE, train.CO2EMISSIONS,  color='blue')\n",
    "plt.plot(train_x, regr.coef_[0][0]*train_x + regr.intercept_[0], '-r')\n",
    "plt.xlabel(\"Engine size\")\n",
    "plt.ylabel(\"Emission\")"
   ]
  },
  {
   "cell_type": "markdown",
   "metadata": {
    "button": false,
    "new_sheet": false,
    "run_control": {
     "read_only": false
    }
   },
   "source": [
    "#### Evaluation\n",
    "\n",
    "We compare the actual values and predicted values to calculate the accuracy of a regression model. Evaluation metrics provide a key role in the development of a model, as it provides insight to areas that require improvement.\n",
    "\n",
    "There are different model evaluation metrics, lets use MSE here to calculate the accuracy of our model based on the test set: \n",
    "\n",
    "```\n",
    "- Mean absolute error: It is the mean of the absolute value of the errors. This is the easiest of the metrics to understand since it’s just average error.\n",
    "- Mean Squared Error (MSE): Mean Squared Error (MSE) is the mean of the squared error. It’s more popular than Mean absolute error because the focus is geared more towards large errors. This is due to the squared term exponentially increasing larger errors in comparison to smaller ones.\n",
    "- Root Mean Squared Error (RMSE).\n",
    "- R-squared is not error, but is a popular metric for accuracy of your model. It represents how close the data are to the fitted regression line. The higher the R-squared, the better the model fits your data. Best possible score is 1.0 and it can be negative (because the model can be arbitrarily worse).\n",
    "```\n"
   ]
  },
  {
   "cell_type": "code",
   "execution_count": 14,
   "metadata": {
    "button": false,
    "new_sheet": false,
    "run_control": {
     "read_only": false
    },
    "scrolled": true
   },
   "outputs": [
    {
     "name": "stdout",
     "output_type": "stream",
     "text": [
      "Mean absolute error: 23.32\n",
      "Residual sum of squares (MSE): 962.01\n",
      "R2-score: 0.78\n"
     ]
    }
   ],
   "source": [
    "from sklearn.metrics import r2_score\n",
    "\n",
    "test_x = np.asanyarray(test[['ENGINESIZE']])\n",
    "test_y = np.asanyarray(test[['CO2EMISSIONS']])\n",
    "test_y_ = regr.predict(test_x)\n",
    "\n",
    "print(\"Mean absolute error: %.2f\" % np.mean(np.absolute(test_y_ - test_y)))\n",
    "print(\"Residual sum of squares (MSE): %.2f\" % np.mean((test_y_ - test_y) ** 2))\n",
    "print(\"R2-score: %.2f\" % r2_score(test_y , test_y_) )"
   ]
  },
  {
   "cell_type": "markdown",
   "metadata": {
    "button": false,
    "new_sheet": false,
    "run_control": {
     "read_only": false
    }
   },
   "source": [
    "<h2>Want to learn more?</h2>\n",
    "\n",
    "IBM SPSS Modeler is a comprehensive analytics platform that has many machine learning algorithms. It has been designed to bring predictive intelligence to decisions made by individuals, by groups, by systems – by your enterprise as a whole. A free trial is available through this course, available here: <a href=\"https://www.ibm.com/analytics/spss-statistics-software\">SPSS Modeler</a>\n",
    "\n",
    "Also, you can use Watson Studio to run these notebooks faster with bigger datasets. Watson Studio is IBM's leading cloud solution for data scientists, built by data scientists. With Jupyter notebooks, RStudio, Apache Spark and popular libraries pre-packaged in the cloud, Watson Studio enables data scientists to collaborate on their projects without having to install anything. Join the fast-growing community of Watson Studio users today with a free account at <a href=\"https://www.ibm.com/cloud/watson-studio\">Watson Studio</a>\n"
   ]
  },
  {
   "cell_type": "markdown",
   "metadata": {},
   "source": [
    "### Thank you for completing this lab!\n",
    "\n",
    "## Author\n",
    "\n",
    "Saeed Aghabozorgi\n",
    "\n",
    "### Other Contributors\n",
    "\n",
    "<a href=\"https://www.linkedin.com/in/joseph-s-50398b136/\" target=\"_blank\">Joseph Santarcangelo</a>\n",
    "\n",
    "## Change Log\n",
    "\n",
    "| Date (YYYY-MM-DD) | Version | Changed By    | Change Description                 |\n",
    "| ----------------- | ------- | ------------- | ---------------------------------- |\n",
    "| 2020-11-03        | 2.1     | Lakshmi Holla | Changed URL of the csv             |\n",
    "| 2020-08-27        | 2.0     | Lavanya       | Moved lab to course repo in GitLab |\n",
    "|                   |         |               |                                    |\n",
    "|                   |         |               |                                    |\n",
    "\n",
    "## <h3 align=\"center\"> © IBM Corporation 2020. All rights reserved. <h3/>\n"
   ]
  }
 ],
 "metadata": {
  "kernelspec": {
   "display_name": "Python",
   "language": "python",
   "name": "conda-env-python-py"
  },
  "language_info": {
   "codemirror_mode": {
    "name": "ipython",
    "version": 3
   },
   "file_extension": ".py",
   "mimetype": "text/x-python",
   "name": "python",
   "nbconvert_exporter": "python",
   "pygments_lexer": "ipython3",
   "version": "3.6.13"
  },
  "widgets": {
   "state": {},
   "version": "1.1.2"
  }
 },
 "nbformat": 4,
 "nbformat_minor": 4
}
