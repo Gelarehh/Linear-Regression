{
 "cells": [
  {
   "cell_type": "code",
   "execution_count": 1,
   "id": "6738c875",
   "metadata": {},
   "outputs": [],
   "source": [
    "### Importing Needed packages\n",
    "\n",
    "import matplotlib.pyplot as plt\n",
    "import pandas as pd\n",
    "import pylab as pl\n",
    "import numpy as np"
   ]
  },
  {
   "cell_type": "code",
   "execution_count": 2,
   "id": "a0db724a",
   "metadata": {},
   "outputs": [
    {
     "data": {
      "text/html": [
       "<div>\n",
       "<style scoped>\n",
       "    .dataframe tbody tr th:only-of-type {\n",
       "        vertical-align: middle;\n",
       "    }\n",
       "\n",
       "    .dataframe tbody tr th {\n",
       "        vertical-align: top;\n",
       "    }\n",
       "\n",
       "    .dataframe thead th {\n",
       "        text-align: right;\n",
       "    }\n",
       "</style>\n",
       "<table border=\"1\" class=\"dataframe\">\n",
       "  <thead>\n",
       "    <tr style=\"text-align: right;\">\n",
       "      <th></th>\n",
       "      <th>Horsepower</th>\n",
       "      <th>Weight</th>\n",
       "      <th>Wheelbase</th>\n",
       "      <th>MSRP</th>\n",
       "    </tr>\n",
       "  </thead>\n",
       "  <tbody>\n",
       "    <tr>\n",
       "      <th>0</th>\n",
       "      <td>265</td>\n",
       "      <td>4451</td>\n",
       "      <td>106</td>\n",
       "      <td>36945.0</td>\n",
       "    </tr>\n",
       "    <tr>\n",
       "      <th>1</th>\n",
       "      <td>200</td>\n",
       "      <td>2778</td>\n",
       "      <td>101</td>\n",
       "      <td>23820.0</td>\n",
       "    </tr>\n",
       "    <tr>\n",
       "      <th>2</th>\n",
       "      <td>200</td>\n",
       "      <td>3230</td>\n",
       "      <td>105</td>\n",
       "      <td>26990.0</td>\n",
       "    </tr>\n",
       "    <tr>\n",
       "      <th>3</th>\n",
       "      <td>270</td>\n",
       "      <td>3575</td>\n",
       "      <td>108</td>\n",
       "      <td>33195.0</td>\n",
       "    </tr>\n",
       "    <tr>\n",
       "      <th>4</th>\n",
       "      <td>225</td>\n",
       "      <td>3880</td>\n",
       "      <td>115</td>\n",
       "      <td>43755.0</td>\n",
       "    </tr>\n",
       "    <tr>\n",
       "      <th>5</th>\n",
       "      <td>225</td>\n",
       "      <td>3893</td>\n",
       "      <td>115</td>\n",
       "      <td>46100.0</td>\n",
       "    </tr>\n",
       "    <tr>\n",
       "      <th>6</th>\n",
       "      <td>290</td>\n",
       "      <td>3153</td>\n",
       "      <td>100</td>\n",
       "      <td>89765.0</td>\n",
       "    </tr>\n",
       "    <tr>\n",
       "      <th>7</th>\n",
       "      <td>170</td>\n",
       "      <td>3252</td>\n",
       "      <td>104</td>\n",
       "      <td>25940.0</td>\n",
       "    </tr>\n",
       "    <tr>\n",
       "      <th>8</th>\n",
       "      <td>170</td>\n",
       "      <td>3638</td>\n",
       "      <td>105</td>\n",
       "      <td>35940.0</td>\n",
       "    </tr>\n",
       "    <tr>\n",
       "      <th>9</th>\n",
       "      <td>220</td>\n",
       "      <td>3462</td>\n",
       "      <td>104</td>\n",
       "      <td>31840.0</td>\n",
       "    </tr>\n",
       "  </tbody>\n",
       "</table>\n",
       "</div>"
      ],
      "text/plain": [
       "   Horsepower  Weight  Wheelbase     MSRP\n",
       "0         265    4451        106  36945.0\n",
       "1         200    2778        101  23820.0\n",
       "2         200    3230        105  26990.0\n",
       "3         270    3575        108  33195.0\n",
       "4         225    3880        115  43755.0\n",
       "5         225    3893        115  46100.0\n",
       "6         290    3153        100  89765.0\n",
       "7         170    3252        104  25940.0\n",
       "8         170    3638        105  35940.0\n",
       "9         220    3462        104  31840.0"
      ]
     },
     "execution_count": 2,
     "metadata": {},
     "output_type": "execute_result"
    }
   ],
   "source": [
    "### Downloading Data\n",
    "\n",
    "df = pd.read_csv('https://query.data.world/s/eoisisn4uv2m3t3pd5qqjc6l7o5jb2')\n",
    "df['MSRP'] = df['MSRP'].str[1:]\n",
    "df['MSRP'] = [float(str(i).replace(\",\", \"\")) for i in df['MSRP']]\n",
    "cdf = df[['Horsepower','Weight','Wheelbase','MSRP']]\n",
    "cdf.head(10)"
   ]
  },
  {
   "cell_type": "code",
   "execution_count": 3,
   "id": "5e026894",
   "metadata": {},
   "outputs": [],
   "source": [
    "msk = np.random.rand(len(df)) < 0.8\n",
    "train = cdf[msk]\n",
    "test = cdf[~msk]"
   ]
  },
  {
   "cell_type": "code",
   "execution_count": 4,
   "id": "6572b464",
   "metadata": {},
   "outputs": [
    {
     "name": "stdout",
     "output_type": "stream",
     "text": [
      "Coefficients:  [[ 241.0580129     1.78759548 -569.62709984]]\n"
     ]
    }
   ],
   "source": [
    "### Training\n",
    "\n",
    "from sklearn import linear_model\n",
    "regr = linear_model.LinearRegression()\n",
    "x = np.asanyarray(train[['Horsepower','Weight','Wheelbase']])\n",
    "y = np.asanyarray(train[['MSRP']])\n",
    "regr.fit (x, y)\n",
    "\n",
    "# The coefficients\n",
    "\n",
    "print ('Coefficients: ', regr.coef_)"
   ]
  },
  {
   "cell_type": "code",
   "execution_count": 5,
   "id": "01cf04b9",
   "metadata": {},
   "outputs": [
    {
     "name": "stdout",
     "output_type": "stream",
     "text": [
      "Residual sum of squares: 93196448.14\n",
      "Variance score: 0.71\n"
     ]
    }
   ],
   "source": [
    "### Prediction\n",
    "\n",
    "y_hat = regr.predict(test[['Horsepower','Weight','Wheelbase']])\n",
    "x = np.asanyarray(test[['Horsepower','Weight','Wheelbase']])\n",
    "y = np.asanyarray(test[['MSRP']])\n",
    "print(\"Residual sum of squares: %.2f\"\n",
    "      % np.mean((y_hat - y) ** 2))\n",
    "\n",
    "# Explained variance score: 1 is perfect prediction\n",
    "\n",
    "print('Variance score: %.2f' % regr.score(x, y))"
   ]
  }
 ],
 "metadata": {
  "kernelspec": {
   "display_name": "Python 3",
   "language": "python",
   "name": "python3"
  },
  "language_info": {
   "codemirror_mode": {
    "name": "ipython",
    "version": 3
   },
   "file_extension": ".py",
   "mimetype": "text/x-python",
   "name": "python",
   "nbconvert_exporter": "python",
   "pygments_lexer": "ipython3",
   "version": "3.8.8"
  }
 },
 "nbformat": 4,
 "nbformat_minor": 5
}
